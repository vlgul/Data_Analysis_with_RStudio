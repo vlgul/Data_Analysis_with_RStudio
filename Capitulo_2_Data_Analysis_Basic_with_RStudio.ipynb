{
  "nbformat": 4,
  "nbformat_minor": 0,
  "metadata": {
    "colab": {
      "provenance": [],
      "include_colab_link": true
    },
    "kernelspec": {
      "name": "ir",
      "display_name": "R"
    },
    "language_info": {
      "name": "R"
    }
  },
  "cells": [
    {
      "cell_type": "markdown",
      "metadata": {
        "id": "view-in-github",
        "colab_type": "text"
      },
      "source": [
        "<a href=\"https://colab.research.google.com/github/vlgul/Data_Analysis_with_RStudio/blob/master/Capitulo_2_Data_Analysis_Basic_with_RStudio.ipynb\" target=\"_parent\"><img src=\"https://colab.research.google.com/assets/colab-badge.svg\" alt=\"Open In Colab\"/></a>"
      ]
    },
    {
      "cell_type": "markdown",
      "source": [
        "## Book: Data Analysis with RStudio: An Easygoing Introduction 2021 (English)\n",
        "\n",
        "Ejercicios del libro: Capitulo 2.\n",
        "\n",
        "- **2.1. Como leer datos con RStudio**\n",
        "- **2.2. Como checar datos con RStudio**\n",
        "- **2.3. Crear y modificar variables y seleccionar casos con RStudio**\n",
        "- **2.4. Comandos y estructura de comando en RStudio**\n",
        "- **2.5. Archivos scripts y reporting**\n",
        "- **2.6. Hora de probar**\n",
        "\n",
        "**Colorario**: Estos notebooks son con fines educativos, las aportaciones que se realicen sobre este es de mera difusión. Para obtener el libro y la información puede contactar al autor desde el enlace anterior. \n",
        "\n",
        "Descarga de datos XLSX y contacto con el autor desde: \n",
        "https://www.statistik-kronthaler.ch/\n"
      ],
      "metadata": {
        "id": "bszr-5kE7WVS"
      }
    },
    {
      "cell_type": "code",
      "execution_count": null,
      "metadata": {
        "colab": {
          "base_uri": "https://localhost:8080/"
        },
        "id": "RFHVbXzj7VaY",
        "outputId": "abb2959d-d2d5-4227-88f9-ad3bdeb397db"
      },
      "outputs": [
        {
          "output_type": "stream",
          "name": "stdout",
          "text": [
            "tibble [8 x 6] (S3: tbl_df/tbl/data.frame)\n",
            " $ dog   : num [1:8] 1 2 3 4 5 6 7 8\n",
            " $ sex   : num [1:8] 0 1 1 1 0 1 1 0\n",
            " $ age   : num [1:8] 5 10 12 20 7 2 1 9\n",
            " $ weight: num [1:8] 12 30 40 8 5 25 18 15\n",
            " $ size  : chr [1:8] \"medium\" \"large\" \"large\" \"small\" ...\n",
            " $ breed : chr [1:8] \"crossbreed\" \"dalmatiner\" \"shepherd\" \"terrier\" ...\n"
          ]
        }
      ],
      "source": [
        "library(\"readxl\")\n",
        "dogs<-read_excel(\"dogs.xlsx\")\n",
        "str(dogs)"
      ]
    },
    {
      "cell_type": "code",
      "source": [
        "head(dogs)"
      ],
      "metadata": {
        "colab": {
          "base_uri": "https://localhost:8080/",
          "height": 286
        },
        "id": "FbIraGGVVtbB",
        "outputId": "ce779ffb-e691-4fc1-9db9-ee247275d957"
      },
      "execution_count": null,
      "outputs": [
        {
          "output_type": "display_data",
          "data": {
            "text/html": [
              "<table class=\"dataframe\">\n",
              "<caption>A tibble: 6 × 6</caption>\n",
              "<thead>\n",
              "\t<tr><th scope=col>dog</th><th scope=col>sex</th><th scope=col>age</th><th scope=col>weight</th><th scope=col>size</th><th scope=col>breed</th></tr>\n",
              "\t<tr><th scope=col>&lt;dbl&gt;</th><th scope=col>&lt;dbl&gt;</th><th scope=col>&lt;dbl&gt;</th><th scope=col>&lt;dbl&gt;</th><th scope=col>&lt;chr&gt;</th><th scope=col>&lt;chr&gt;</th></tr>\n",
              "</thead>\n",
              "<tbody>\n",
              "\t<tr><td>1</td><td>0</td><td> 5</td><td>12</td><td>medium</td><td>crossbreed</td></tr>\n",
              "\t<tr><td>2</td><td>1</td><td>10</td><td>30</td><td>large </td><td>dalmatiner</td></tr>\n",
              "\t<tr><td>3</td><td>1</td><td>12</td><td>40</td><td>large </td><td>shepherd  </td></tr>\n",
              "\t<tr><td>4</td><td>1</td><td>20</td><td> 8</td><td>small </td><td>terrier   </td></tr>\n",
              "\t<tr><td>5</td><td>0</td><td> 7</td><td> 5</td><td>small </td><td>terrier   </td></tr>\n",
              "\t<tr><td>6</td><td>1</td><td> 2</td><td>25</td><td>large </td><td>shepherd  </td></tr>\n",
              "</tbody>\n",
              "</table>\n"
            ],
            "text/markdown": "\nA tibble: 6 × 6\n\n| dog &lt;dbl&gt; | sex &lt;dbl&gt; | age &lt;dbl&gt; | weight &lt;dbl&gt; | size &lt;chr&gt; | breed &lt;chr&gt; |\n|---|---|---|---|---|---|\n| 1 | 0 |  5 | 12 | medium | crossbreed |\n| 2 | 1 | 10 | 30 | large  | dalmatiner |\n| 3 | 1 | 12 | 40 | large  | shepherd   |\n| 4 | 1 | 20 |  8 | small  | terrier    |\n| 5 | 0 |  7 |  5 | small  | terrier    |\n| 6 | 1 |  2 | 25 | large  | shepherd   |\n\n",
            "text/latex": "A tibble: 6 × 6\n\\begin{tabular}{llllll}\n dog & sex & age & weight & size & breed\\\\\n <dbl> & <dbl> & <dbl> & <dbl> & <chr> & <chr>\\\\\n\\hline\n\t 1 & 0 &  5 & 12 & medium & crossbreed\\\\\n\t 2 & 1 & 10 & 30 & large  & dalmatiner\\\\\n\t 3 & 1 & 12 & 40 & large  & shepherd  \\\\\n\t 4 & 1 & 20 &  8 & small  & terrier   \\\\\n\t 5 & 0 &  7 &  5 & small  & terrier   \\\\\n\t 6 & 1 &  2 & 25 & large  & shepherd  \\\\\n\\end{tabular}\n",
            "text/plain": [
              "  dog sex age weight size   breed     \n",
              "1 1   0    5  12     medium crossbreed\n",
              "2 2   1   10  30     large  dalmatiner\n",
              "3 3   1   12  40     large  shepherd  \n",
              "4 4   1   20   8     small  terrier   \n",
              "5 5   0    7   5     small  terrier   \n",
              "6 6   1    2  25     large  shepherd  "
            ]
          },
          "metadata": {}
        }
      ]
    },
    {
      "cell_type": "code",
      "source": [
        "summary(dogs)"
      ],
      "metadata": {
        "colab": {
          "base_uri": "https://localhost:8080/",
          "height": 260
        },
        "id": "UnRuNC91V46f",
        "outputId": "5348a93d-dc6c-49c4-dfda-edb13154fa08"
      },
      "execution_count": null,
      "outputs": [
        {
          "output_type": "display_data",
          "data": {
            "text/plain": [
              "      dog            sex             age            weight     \n",
              " Min.   :1.00   Min.   :0.000   Min.   : 1.00   Min.   : 5.00  \n",
              " 1st Qu.:2.75   1st Qu.:0.000   1st Qu.: 4.25   1st Qu.:11.00  \n",
              " Median :4.50   Median :1.000   Median : 8.00   Median :16.50  \n",
              " Mean   :4.50   Mean   :0.625   Mean   : 8.25   Mean   :19.12  \n",
              " 3rd Qu.:6.25   3rd Qu.:1.000   3rd Qu.:10.50   3rd Qu.:26.25  \n",
              " Max.   :8.00   Max.   :1.000   Max.   :20.00   Max.   :40.00  \n",
              "     size              breed          \n",
              " Length:8           Length:8          \n",
              " Class :character   Class :character  \n",
              " Mode  :character   Mode  :character  \n",
              "                                      \n",
              "                                      \n",
              "                                      "
            ]
          },
          "metadata": {}
        }
      ]
    },
    {
      "cell_type": "code",
      "source": [
        "dogs$weight"
      ],
      "metadata": {
        "colab": {
          "base_uri": "https://localhost:8080/",
          "height": 52
        },
        "id": "U0gGLLChV8ID",
        "outputId": "531a7887-c39d-481a-ecb8-f119a6d489da"
      },
      "execution_count": null,
      "outputs": [
        {
          "output_type": "display_data",
          "data": {
            "text/html": [
              "<style>\n",
              ".list-inline {list-style: none; margin:0; padding: 0}\n",
              ".list-inline>li {display: inline-block}\n",
              ".list-inline>li:not(:last-child)::after {content: \"\\00b7\"; padding: 0 .5ex}\n",
              "</style>\n",
              "<ol class=list-inline><li>12</li><li>30</li><li>40</li><li>8</li><li>5</li><li>25</li><li>18</li><li>15</li></ol>\n"
            ],
            "text/markdown": "1. 12\n2. 30\n3. 40\n4. 8\n5. 5\n6. 25\n7. 18\n8. 15\n\n\n",
            "text/latex": "\\begin{enumerate*}\n\\item 12\n\\item 30\n\\item 40\n\\item 8\n\\item 5\n\\item 25\n\\item 18\n\\item 15\n\\end{enumerate*}\n",
            "text/plain": [
              "[1] 12 30 40  8  5 25 18 15"
            ]
          },
          "metadata": {}
        },
        {
          "output_type": "display_data",
          "data": {
            "text/html": [
              "19.125"
            ],
            "text/markdown": "19.125",
            "text/latex": "19.125",
            "text/plain": [
              "[1] 19.125"
            ]
          },
          "metadata": {}
        }
      ]
    },
    {
      "cell_type": "code",
      "source": [
        "mean(dogs$weight)"
      ],
      "metadata": {
        "colab": {
          "base_uri": "https://localhost:8080/",
          "height": 34
        },
        "id": "AMzuxP7RWHZB",
        "outputId": "93a03d6d-d767-4eea-c5ce-ad14a0b154f3"
      },
      "execution_count": null,
      "outputs": [
        {
          "output_type": "display_data",
          "data": {
            "text/html": [
              "19.125"
            ],
            "text/markdown": "19.125",
            "text/latex": "19.125",
            "text/plain": [
              "[1] 19.125"
            ]
          },
          "metadata": {}
        }
      ]
    },
    {
      "cell_type": "code",
      "source": [
        "hist(dogs$weight)"
      ],
      "metadata": {
        "colab": {
          "base_uri": "https://localhost:8080/",
          "height": 437
        },
        "id": "oqx_HuNMWA8M",
        "outputId": "8b447ad8-4812-4627-ebc3-bab43f57d3a3"
      },
      "execution_count": null,
      "outputs": [
        {
          "output_type": "display_data",
          "data": {
            "text/plain": [
              "Plot with title \"Histogram of dogs$weight\""
            ],
            "image/png": "[encoded data removed]"
          },
          "metadata": {
            "image/png": {
              "width": 420,
              "height": 420
            }
          }
        }
      ]
    },
    {
      "cell_type": "code",
      "source": [
        "tail(dogs)"
      ],
      "metadata": {
        "colab": {
          "base_uri": "https://localhost:8080/",
          "height": 286
        },
        "id": "SqETXkQJWEkl",
        "outputId": "a05d1e36-70d6-484b-963a-a6d05cea611d"
      },
      "execution_count": null,
      "outputs": [
        {
          "output_type": "display_data",
          "data": {
            "text/html": [
              "<table class=\"dataframe\">\n",
              "<caption>A tibble: 6 × 6</caption>\n",
              "<thead>\n",
              "\t<tr><th scope=col>dog</th><th scope=col>sex</th><th scope=col>age</th><th scope=col>weight</th><th scope=col>size</th><th scope=col>breed</th></tr>\n",
              "\t<tr><th scope=col>&lt;dbl&gt;</th><th scope=col>&lt;dbl&gt;</th><th scope=col>&lt;dbl&gt;</th><th scope=col>&lt;dbl&gt;</th><th scope=col>&lt;chr&gt;</th><th scope=col>&lt;chr&gt;</th></tr>\n",
              "</thead>\n",
              "<tbody>\n",
              "\t<tr><td>3</td><td>1</td><td>12</td><td>40</td><td>large </td><td>shepherd  </td></tr>\n",
              "\t<tr><td>4</td><td>1</td><td>20</td><td> 8</td><td>small </td><td>terrier   </td></tr>\n",
              "\t<tr><td>5</td><td>0</td><td> 7</td><td> 5</td><td>small </td><td>terrier   </td></tr>\n",
              "\t<tr><td>6</td><td>1</td><td> 2</td><td>25</td><td>large </td><td>shepherd  </td></tr>\n",
              "\t<tr><td>7</td><td>1</td><td> 1</td><td>18</td><td>medium</td><td>crossbreed</td></tr>\n",
              "\t<tr><td>8</td><td>0</td><td> 9</td><td>15</td><td>medium</td><td>crossbreed</td></tr>\n",
              "</tbody>\n",
              "</table>\n"
            ],
            "text/markdown": "\nA tibble: 6 × 6\n\n| dog &lt;dbl&gt; | sex &lt;dbl&gt; | age &lt;dbl&gt; | weight &lt;dbl&gt; | size &lt;chr&gt; | breed &lt;chr&gt; |\n|---|---|---|---|---|---|\n| 3 | 1 | 12 | 40 | large  | shepherd   |\n| 4 | 1 | 20 |  8 | small  | terrier    |\n| 5 | 0 |  7 |  5 | small  | terrier    |\n| 6 | 1 |  2 | 25 | large  | shepherd   |\n| 7 | 1 |  1 | 18 | medium | crossbreed |\n| 8 | 0 |  9 | 15 | medium | crossbreed |\n\n",
            "text/latex": "A tibble: 6 × 6\n\\begin{tabular}{llllll}\n dog & sex & age & weight & size & breed\\\\\n <dbl> & <dbl> & <dbl> & <dbl> & <chr> & <chr>\\\\\n\\hline\n\t 3 & 1 & 12 & 40 & large  & shepherd  \\\\\n\t 4 & 1 & 20 &  8 & small  & terrier   \\\\\n\t 5 & 0 &  7 &  5 & small  & terrier   \\\\\n\t 6 & 1 &  2 & 25 & large  & shepherd  \\\\\n\t 7 & 1 &  1 & 18 & medium & crossbreed\\\\\n\t 8 & 0 &  9 & 15 & medium & crossbreed\\\\\n\\end{tabular}\n",
            "text/plain": [
              "  dog sex age weight size   breed     \n",
              "1 3   1   12  40     large  shepherd  \n",
              "2 4   1   20   8     small  terrier   \n",
              "3 5   0    7   5     small  terrier   \n",
              "4 6   1    2  25     large  shepherd  \n",
              "5 7   1    1  18     medium crossbreed\n",
              "6 8   0    9  15     medium crossbreed"
            ]
          },
          "metadata": {}
        }
      ]
    },
    {
      "cell_type": "code",
      "source": [
        "View(dogs)"
      ],
      "metadata": {
        "id": "thDg1LK9WMqY",
        "outputId": "664a713f-d146-4cd4-efb0-599923f6926d",
        "colab": {
          "base_uri": "https://localhost:8080/",
          "height": 349
        }
      },
      "execution_count": null,
      "outputs": [
        {
          "output_type": "display_data",
          "data": {
            "text/plain": [
              "  dog sex age weight size   breed     \n",
              "1 1   0    5  12     medium crossbreed\n",
              "2 2   1   10  30     large  dalmatiner\n",
              "3 3   1   12  40     large  shepherd  \n",
              "4 4   1   20   8     small  terrier   \n",
              "5 5   0    7   5     small  terrier   \n",
              "6 6   1    2  25     large  shepherd  \n",
              "7 7   1    1  18     medium crossbreed\n",
              "8 8   0    9  15     medium crossbreed"
            ],
            "text/html": [
              "<table class=\"dataframe\">\n",
              "<caption>A tibble: 8 × 6</caption>\n",
              "<thead>\n",
              "\t<tr><th scope=col>dog</th><th scope=col>sex</th><th scope=col>age</th><th scope=col>weight</th><th scope=col>size</th><th scope=col>breed</th></tr>\n",
              "\t<tr><th scope=col>&lt;dbl&gt;</th><th scope=col>&lt;dbl&gt;</th><th scope=col>&lt;dbl&gt;</th><th scope=col>&lt;dbl&gt;</th><th scope=col>&lt;chr&gt;</th><th scope=col>&lt;chr&gt;</th></tr>\n",
              "</thead>\n",
              "<tbody>\n",
              "\t<tr><td>1</td><td>0</td><td> 5</td><td>12</td><td>medium</td><td>crossbreed</td></tr>\n",
              "\t<tr><td>2</td><td>1</td><td>10</td><td>30</td><td>large </td><td>dalmatiner</td></tr>\n",
              "\t<tr><td>3</td><td>1</td><td>12</td><td>40</td><td>large </td><td>shepherd  </td></tr>\n",
              "\t<tr><td>4</td><td>1</td><td>20</td><td> 8</td><td>small </td><td>terrier   </td></tr>\n",
              "\t<tr><td>5</td><td>0</td><td> 7</td><td> 5</td><td>small </td><td>terrier   </td></tr>\n",
              "\t<tr><td>6</td><td>1</td><td> 2</td><td>25</td><td>large </td><td>shepherd  </td></tr>\n",
              "\t<tr><td>7</td><td>1</td><td> 1</td><td>18</td><td>medium</td><td>crossbreed</td></tr>\n",
              "\t<tr><td>8</td><td>0</td><td> 9</td><td>15</td><td>medium</td><td>crossbreed</td></tr>\n",
              "</tbody>\n",
              "</table>\n"
            ],
            "text/markdown": "\nA tibble: 8 × 6\n\n| dog &lt;dbl&gt; | sex &lt;dbl&gt; | age &lt;dbl&gt; | weight &lt;dbl&gt; | size &lt;chr&gt; | breed &lt;chr&gt; |\n|---|---|---|---|---|---|\n| 1 | 0 |  5 | 12 | medium | crossbreed |\n| 2 | 1 | 10 | 30 | large  | dalmatiner |\n| 3 | 1 | 12 | 40 | large  | shepherd   |\n| 4 | 1 | 20 |  8 | small  | terrier    |\n| 5 | 0 |  7 |  5 | small  | terrier    |\n| 6 | 1 |  2 | 25 | large  | shepherd   |\n| 7 | 1 |  1 | 18 | medium | crossbreed |\n| 8 | 0 |  9 | 15 | medium | crossbreed |\n\n",
            "text/latex": "A tibble: 8 × 6\n\\begin{tabular}{llllll}\n dog & sex & age & weight & size & breed\\\\\n <dbl> & <dbl> & <dbl> & <dbl> & <chr> & <chr>\\\\\n\\hline\n\t 1 & 0 &  5 & 12 & medium & crossbreed\\\\\n\t 2 & 1 & 10 & 30 & large  & dalmatiner\\\\\n\t 3 & 1 & 12 & 40 & large  & shepherd  \\\\\n\t 4 & 1 & 20 &  8 & small  & terrier   \\\\\n\t 5 & 0 &  7 &  5 & small  & terrier   \\\\\n\t 6 & 1 &  2 & 25 & large  & shepherd  \\\\\n\t 7 & 1 &  1 & 18 & medium & crossbreed\\\\\n\t 8 & 0 &  9 & 15 & medium & crossbreed\\\\\n\\end{tabular}\n"
          },
          "metadata": {}
        }
      ]
    },
    {
      "cell_type": "code",
      "source": [
        "f_sex <- as.factor(dogs$sex)\n",
        "f_sex"
      ],
      "metadata": {
        "colab": {
          "base_uri": "https://localhost:8080/",
          "height": 52
        },
        "id": "HEw6MB0FAey-",
        "outputId": "31b07cdc-1f30-496f-b396-2b3f58469ff0"
      },
      "execution_count": null,
      "outputs": [
        {
          "output_type": "display_data",
          "data": {
            "text/html": [
              "<style>\n",
              ".list-inline {list-style: none; margin:0; padding: 0}\n",
              ".list-inline>li {display: inline-block}\n",
              ".list-inline>li:not(:last-child)::after {content: \"\\00b7\"; padding: 0 .5ex}\n",
              "</style>\n",
              "<ol class=list-inline><li>0</li><li>1</li><li>1</li><li>1</li><li>0</li><li>1</li><li>1</li><li>0</li></ol>\n",
              "\n",
              "<details>\n",
              "\t<summary style=display:list-item;cursor:pointer>\n",
              "\t\t<strong>Levels</strong>:\n",
              "\t</summary>\n",
              "\t<style>\n",
              "\t.list-inline {list-style: none; margin:0; padding: 0}\n",
              "\t.list-inline>li {display: inline-block}\n",
              "\t.list-inline>li:not(:last-child)::after {content: \"\\00b7\"; padding: 0 .5ex}\n",
              "\t</style>\n",
              "\t<ol class=list-inline><li>'0'</li><li>'1'</li></ol>\n",
              "</details>"
            ],
            "text/markdown": "1. 0\n2. 1\n3. 1\n4. 1\n5. 0\n6. 1\n7. 1\n8. 0\n\n\n\n**Levels**: 1. '0'\n2. '1'\n\n\n",
            "text/latex": "\\begin{enumerate*}\n\\item 0\n\\item 1\n\\item 1\n\\item 1\n\\item 0\n\\item 1\n\\item 1\n\\item 0\n\\end{enumerate*}\n\n\\emph{Levels}: \\begin{enumerate*}\n\\item '0'\n\\item '1'\n\\end{enumerate*}\n",
            "text/plain": [
              "[1] 0 1 1 1 0 1 1 0\n",
              "Levels: 0 1"
            ]
          },
          "metadata": {}
        }
      ]
    },
    {
      "cell_type": "code",
      "source": [
        " dogs <- cbind(dogs, f_sex)\n",
        " dogs"
      ],
      "metadata": {
        "colab": {
          "base_uri": "https://localhost:8080/",
          "height": 349
        },
        "id": "Mk2Y94ANAkeP",
        "outputId": "03dc6209-e9ec-43e8-b8f8-f2b16d33d932"
      },
      "execution_count": null,
      "outputs": [
        {
          "output_type": "display_data",
          "data": {
            "text/html": [
              "<table class=\"dataframe\">\n",
              "<caption>A data.frame: 8 × 7</caption>\n",
              "<thead>\n",
              "\t<tr><th scope=col>dog</th><th scope=col>sex</th><th scope=col>age</th><th scope=col>weight</th><th scope=col>size</th><th scope=col>breed</th><th scope=col>f_sex</th></tr>\n",
              "\t<tr><th scope=col>&lt;dbl&gt;</th><th scope=col>&lt;dbl&gt;</th><th scope=col>&lt;dbl&gt;</th><th scope=col>&lt;dbl&gt;</th><th scope=col>&lt;chr&gt;</th><th scope=col>&lt;chr&gt;</th><th scope=col>&lt;fct&gt;</th></tr>\n",
              "</thead>\n",
              "<tbody>\n",
              "\t<tr><td>1</td><td>0</td><td> 5</td><td>12</td><td>medium</td><td>crossbreed</td><td>0</td></tr>\n",
              "\t<tr><td>2</td><td>1</td><td>10</td><td>30</td><td>large </td><td>dalmatiner</td><td>1</td></tr>\n",
              "\t<tr><td>3</td><td>1</td><td>12</td><td>40</td><td>large </td><td>shepherd  </td><td>1</td></tr>\n",
              "\t<tr><td>4</td><td>1</td><td>20</td><td> 8</td><td>small </td><td>terrier   </td><td>1</td></tr>\n",
              "\t<tr><td>5</td><td>0</td><td> 7</td><td> 5</td><td>small </td><td>terrier   </td><td>0</td></tr>\n",
              "\t<tr><td>6</td><td>1</td><td> 2</td><td>25</td><td>large </td><td>shepherd  </td><td>1</td></tr>\n",
              "\t<tr><td>7</td><td>1</td><td> 1</td><td>18</td><td>medium</td><td>crossbreed</td><td>1</td></tr>\n",
              "\t<tr><td>8</td><td>0</td><td> 9</td><td>15</td><td>medium</td><td>crossbreed</td><td>0</td></tr>\n",
              "</tbody>\n",
              "</table>\n"
            ],
            "text/markdown": "\nA data.frame: 8 × 7\n\n| dog &lt;dbl&gt; | sex &lt;dbl&gt; | age &lt;dbl&gt; | weight &lt;dbl&gt; | size &lt;chr&gt; | breed &lt;chr&gt; | f_sex &lt;fct&gt; |\n|---|---|---|---|---|---|---|\n| 1 | 0 |  5 | 12 | medium | crossbreed | 0 |\n| 2 | 1 | 10 | 30 | large  | dalmatiner | 1 |\n| 3 | 1 | 12 | 40 | large  | shepherd   | 1 |\n| 4 | 1 | 20 |  8 | small  | terrier    | 1 |\n| 5 | 0 |  7 |  5 | small  | terrier    | 0 |\n| 6 | 1 |  2 | 25 | large  | shepherd   | 1 |\n| 7 | 1 |  1 | 18 | medium | crossbreed | 1 |\n| 8 | 0 |  9 | 15 | medium | crossbreed | 0 |\n\n",
            "text/latex": "A data.frame: 8 × 7\n\\begin{tabular}{lllllll}\n dog & sex & age & weight & size & breed & f\\_sex\\\\\n <dbl> & <dbl> & <dbl> & <dbl> & <chr> & <chr> & <fct>\\\\\n\\hline\n\t 1 & 0 &  5 & 12 & medium & crossbreed & 0\\\\\n\t 2 & 1 & 10 & 30 & large  & dalmatiner & 1\\\\\n\t 3 & 1 & 12 & 40 & large  & shepherd   & 1\\\\\n\t 4 & 1 & 20 &  8 & small  & terrier    & 1\\\\\n\t 5 & 0 &  7 &  5 & small  & terrier    & 0\\\\\n\t 6 & 1 &  2 & 25 & large  & shepherd   & 1\\\\\n\t 7 & 1 &  1 & 18 & medium & crossbreed & 1\\\\\n\t 8 & 0 &  9 & 15 & medium & crossbreed & 0\\\\\n\\end{tabular}\n",
            "text/plain": [
              "  dog sex age weight size   breed      f_sex\n",
              "1 1   0    5  12     medium crossbreed 0    \n",
              "2 2   1   10  30     large  dalmatiner 1    \n",
              "3 3   1   12  40     large  shepherd   1    \n",
              "4 4   1   20   8     small  terrier    1    \n",
              "5 5   0    7   5     small  terrier    0    \n",
              "6 6   1    2  25     large  shepherd   1    \n",
              "7 7   1    1  18     medium crossbreed 1    \n",
              "8 8   0    9  15     medium crossbreed 0    "
            ]
          },
          "metadata": {}
        }
      ]
    },
    {
      "cell_type": "code",
      "source": [
        "dogs[1,1]"
      ],
      "metadata": {
        "colab": {
          "base_uri": "https://localhost:8080/",
          "height": 34
        },
        "id": "gM2D6s85JOOB",
        "outputId": "00565805-27ea-4a41-86f1-b8e3005c1571"
      },
      "execution_count": null,
      "outputs": [
        {
          "output_type": "display_data",
          "data": {
            "text/html": [
              "1"
            ],
            "text/markdown": "1",
            "text/latex": "1",
            "text/plain": [
              "[1] 1"
            ]
          },
          "metadata": {}
        }
      ]
    },
    {
      "cell_type": "code",
      "source": [
        "dogs[1:4,1:3]"
      ],
      "metadata": {
        "colab": {
          "base_uri": "https://localhost:8080/",
          "height": 223
        },
        "id": "pczdA0bWJSfq",
        "outputId": "62c97348-5551-4e7b-8c99-3f265a2c719a"
      },
      "execution_count": null,
      "outputs": [
        {
          "output_type": "display_data",
          "data": {
            "text/html": [
              "<table class=\"dataframe\">\n",
              "<caption>A data.frame: 4 × 3</caption>\n",
              "<thead>\n",
              "\t<tr><th></th><th scope=col>dog</th><th scope=col>sex</th><th scope=col>age</th></tr>\n",
              "\t<tr><th></th><th scope=col>&lt;dbl&gt;</th><th scope=col>&lt;dbl&gt;</th><th scope=col>&lt;dbl&gt;</th></tr>\n",
              "</thead>\n",
              "<tbody>\n",
              "\t<tr><th scope=row>1</th><td>1</td><td>0</td><td> 5</td></tr>\n",
              "\t<tr><th scope=row>2</th><td>2</td><td>1</td><td>10</td></tr>\n",
              "\t<tr><th scope=row>3</th><td>3</td><td>1</td><td>12</td></tr>\n",
              "\t<tr><th scope=row>4</th><td>4</td><td>1</td><td>20</td></tr>\n",
              "</tbody>\n",
              "</table>\n"
            ],
            "text/markdown": "\nA data.frame: 4 × 3\n\n| <!--/--> | dog &lt;dbl&gt; | sex &lt;dbl&gt; | age &lt;dbl&gt; |\n|---|---|---|---|\n| 1 | 1 | 0 |  5 |\n| 2 | 2 | 1 | 10 |\n| 3 | 3 | 1 | 12 |\n| 4 | 4 | 1 | 20 |\n\n",
            "text/latex": "A data.frame: 4 × 3\n\\begin{tabular}{r|lll}\n  & dog & sex & age\\\\\n  & <dbl> & <dbl> & <dbl>\\\\\n\\hline\n\t1 & 1 & 0 &  5\\\\\n\t2 & 2 & 1 & 10\\\\\n\t3 & 3 & 1 & 12\\\\\n\t4 & 4 & 1 & 20\\\\\n\\end{tabular}\n",
            "text/plain": [
              "  dog sex age\n",
              "1 1   0    5 \n",
              "2 2   1   10 \n",
              "3 3   1   12 \n",
              "4 4   1   20 "
            ]
          },
          "metadata": {}
        }
      ]
    },
    {
      "cell_type": "code",
      "source": [
        " dogs[ ,1:3]"
      ],
      "metadata": {
        "colab": {
          "base_uri": "https://localhost:8080/",
          "height": 349
        },
        "id": "DyFaHpBxJV4V",
        "outputId": "071ca3ee-1e4b-4966-bfdc-14f0ad63d16e"
      },
      "execution_count": null,
      "outputs": [
        {
          "output_type": "display_data",
          "data": {
            "text/html": [
              "<table class=\"dataframe\">\n",
              "<caption>A data.frame: 8 × 3</caption>\n",
              "<thead>\n",
              "\t<tr><th scope=col>dog</th><th scope=col>sex</th><th scope=col>age</th></tr>\n",
              "\t<tr><th scope=col>&lt;dbl&gt;</th><th scope=col>&lt;dbl&gt;</th><th scope=col>&lt;dbl&gt;</th></tr>\n",
              "</thead>\n",
              "<tbody>\n",
              "\t<tr><td>1</td><td>0</td><td> 5</td></tr>\n",
              "\t<tr><td>2</td><td>1</td><td>10</td></tr>\n",
              "\t<tr><td>3</td><td>1</td><td>12</td></tr>\n",
              "\t<tr><td>4</td><td>1</td><td>20</td></tr>\n",
              "\t<tr><td>5</td><td>0</td><td> 7</td></tr>\n",
              "\t<tr><td>6</td><td>1</td><td> 2</td></tr>\n",
              "\t<tr><td>7</td><td>1</td><td> 1</td></tr>\n",
              "\t<tr><td>8</td><td>0</td><td> 9</td></tr>\n",
              "</tbody>\n",
              "</table>\n"
            ],
            "text/markdown": "\nA data.frame: 8 × 3\n\n| dog &lt;dbl&gt; | sex &lt;dbl&gt; | age &lt;dbl&gt; |\n|---|---|---|\n| 1 | 0 |  5 |\n| 2 | 1 | 10 |\n| 3 | 1 | 12 |\n| 4 | 1 | 20 |\n| 5 | 0 |  7 |\n| 6 | 1 |  2 |\n| 7 | 1 |  1 |\n| 8 | 0 |  9 |\n\n",
            "text/latex": "A data.frame: 8 × 3\n\\begin{tabular}{lll}\n dog & sex & age\\\\\n <dbl> & <dbl> & <dbl>\\\\\n\\hline\n\t 1 & 0 &  5\\\\\n\t 2 & 1 & 10\\\\\n\t 3 & 1 & 12\\\\\n\t 4 & 1 & 20\\\\\n\t 5 & 0 &  7\\\\\n\t 6 & 1 &  2\\\\\n\t 7 & 1 &  1\\\\\n\t 8 & 0 &  9\\\\\n\\end{tabular}\n",
            "text/plain": [
              "  dog sex age\n",
              "1 1   0    5 \n",
              "2 2   1   10 \n",
              "3 3   1   12 \n",
              "4 4   1   20 \n",
              "5 5   0    7 \n",
              "6 6   1    2 \n",
              "7 7   1    1 \n",
              "8 8   0    9 "
            ]
          },
          "metadata": {}
        }
      ]
    },
    {
      "cell_type": "code",
      "source": [
        " dogs[ ,\"sex\"]"
      ],
      "metadata": {
        "colab": {
          "base_uri": "https://localhost:8080/",
          "height": 34
        },
        "id": "wvHCm0HnJZ83",
        "outputId": "980a6842-a4ec-4cfb-8800-6c1215a4f104"
      },
      "execution_count": null,
      "outputs": [
        {
          "output_type": "display_data",
          "data": {
            "text/html": [
              "<style>\n",
              ".list-inline {list-style: none; margin:0; padding: 0}\n",
              ".list-inline>li {display: inline-block}\n",
              ".list-inline>li:not(:last-child)::after {content: \"\\00b7\"; padding: 0 .5ex}\n",
              "</style>\n",
              "<ol class=list-inline><li>0</li><li>1</li><li>1</li><li>1</li><li>0</li><li>1</li><li>1</li><li>0</li></ol>\n"
            ],
            "text/markdown": "1. 0\n2. 1\n3. 1\n4. 1\n5. 0\n6. 1\n7. 1\n8. 0\n\n\n",
            "text/latex": "\\begin{enumerate*}\n\\item 0\n\\item 1\n\\item 1\n\\item 1\n\\item 0\n\\item 1\n\\item 1\n\\item 0\n\\end{enumerate*}\n",
            "text/plain": [
              "[1] 0 1 1 1 0 1 1 0"
            ]
          },
          "metadata": {}
        }
      ]
    },
    {
      "cell_type": "code",
      "source": [
        " dogs[ ,c(\"dog\",\"sex\",\"age\")]"
      ],
      "metadata": {
        "colab": {
          "base_uri": "https://localhost:8080/",
          "height": 349
        },
        "id": "9m2eZNWnJc3S",
        "outputId": "c240055a-476d-47c0-a8d5-a0b3ec23f5ca"
      },
      "execution_count": null,
      "outputs": [
        {
          "output_type": "display_data",
          "data": {
            "text/html": [
              "<table class=\"dataframe\">\n",
              "<caption>A data.frame: 8 × 3</caption>\n",
              "<thead>\n",
              "\t<tr><th scope=col>dog</th><th scope=col>sex</th><th scope=col>age</th></tr>\n",
              "\t<tr><th scope=col>&lt;dbl&gt;</th><th scope=col>&lt;dbl&gt;</th><th scope=col>&lt;dbl&gt;</th></tr>\n",
              "</thead>\n",
              "<tbody>\n",
              "\t<tr><td>1</td><td>0</td><td> 5</td></tr>\n",
              "\t<tr><td>2</td><td>1</td><td>10</td></tr>\n",
              "\t<tr><td>3</td><td>1</td><td>12</td></tr>\n",
              "\t<tr><td>4</td><td>1</td><td>20</td></tr>\n",
              "\t<tr><td>5</td><td>0</td><td> 7</td></tr>\n",
              "\t<tr><td>6</td><td>1</td><td> 2</td></tr>\n",
              "\t<tr><td>7</td><td>1</td><td> 1</td></tr>\n",
              "\t<tr><td>8</td><td>0</td><td> 9</td></tr>\n",
              "</tbody>\n",
              "</table>\n"
            ],
            "text/markdown": "\nA data.frame: 8 × 3\n\n| dog &lt;dbl&gt; | sex &lt;dbl&gt; | age &lt;dbl&gt; |\n|---|---|---|\n| 1 | 0 |  5 |\n| 2 | 1 | 10 |\n| 3 | 1 | 12 |\n| 4 | 1 | 20 |\n| 5 | 0 |  7 |\n| 6 | 1 |  2 |\n| 7 | 1 |  1 |\n| 8 | 0 |  9 |\n\n",
            "text/latex": "A data.frame: 8 × 3\n\\begin{tabular}{lll}\n dog & sex & age\\\\\n <dbl> & <dbl> & <dbl>\\\\\n\\hline\n\t 1 & 0 &  5\\\\\n\t 2 & 1 & 10\\\\\n\t 3 & 1 & 12\\\\\n\t 4 & 1 & 20\\\\\n\t 5 & 0 &  7\\\\\n\t 6 & 1 &  2\\\\\n\t 7 & 1 &  1\\\\\n\t 8 & 0 &  9\\\\\n\\end{tabular}\n",
            "text/plain": [
              "  dog sex age\n",
              "1 1   0    5 \n",
              "2 2   1   10 \n",
              "3 3   1   12 \n",
              "4 4   1   20 \n",
              "5 5   0    7 \n",
              "6 6   1    2 \n",
              "7 7   1    1 \n",
              "8 8   0    9 "
            ]
          },
          "metadata": {}
        }
      ]
    },
    {
      "cell_type": "code",
      "source": [
        " dogs_reduced <- dogs[ ,1:3]\n",
        " dogs_reduced"
      ],
      "metadata": {
        "colab": {
          "base_uri": "https://localhost:8080/",
          "height": 349
        },
        "id": "63HKynAgJhQY",
        "outputId": "b448ee44-5732-450f-c5cc-8252edf905e1"
      },
      "execution_count": null,
      "outputs": [
        {
          "output_type": "display_data",
          "data": {
            "text/html": [
              "<table class=\"dataframe\">\n",
              "<caption>A data.frame: 8 × 3</caption>\n",
              "<thead>\n",
              "\t<tr><th scope=col>dog</th><th scope=col>sex</th><th scope=col>age</th></tr>\n",
              "\t<tr><th scope=col>&lt;dbl&gt;</th><th scope=col>&lt;dbl&gt;</th><th scope=col>&lt;dbl&gt;</th></tr>\n",
              "</thead>\n",
              "<tbody>\n",
              "\t<tr><td>1</td><td>0</td><td> 5</td></tr>\n",
              "\t<tr><td>2</td><td>1</td><td>10</td></tr>\n",
              "\t<tr><td>3</td><td>1</td><td>12</td></tr>\n",
              "\t<tr><td>4</td><td>1</td><td>20</td></tr>\n",
              "\t<tr><td>5</td><td>0</td><td> 7</td></tr>\n",
              "\t<tr><td>6</td><td>1</td><td> 2</td></tr>\n",
              "\t<tr><td>7</td><td>1</td><td> 1</td></tr>\n",
              "\t<tr><td>8</td><td>0</td><td> 9</td></tr>\n",
              "</tbody>\n",
              "</table>\n"
            ],
            "text/markdown": "\nA data.frame: 8 × 3\n\n| dog &lt;dbl&gt; | sex &lt;dbl&gt; | age &lt;dbl&gt; |\n|---|---|---|\n| 1 | 0 |  5 |\n| 2 | 1 | 10 |\n| 3 | 1 | 12 |\n| 4 | 1 | 20 |\n| 5 | 0 |  7 |\n| 6 | 1 |  2 |\n| 7 | 1 |  1 |\n| 8 | 0 |  9 |\n\n",
            "text/latex": "A data.frame: 8 × 3\n\\begin{tabular}{lll}\n dog & sex & age\\\\\n <dbl> & <dbl> & <dbl>\\\\\n\\hline\n\t 1 & 0 &  5\\\\\n\t 2 & 1 & 10\\\\\n\t 3 & 1 & 12\\\\\n\t 4 & 1 & 20\\\\\n\t 5 & 0 &  7\\\\\n\t 6 & 1 &  2\\\\\n\t 7 & 1 &  1\\\\\n\t 8 & 0 &  9\\\\\n\\end{tabular}\n",
            "text/plain": [
              "  dog sex age\n",
              "1 1   0    5 \n",
              "2 2   1   10 \n",
              "3 3   1   12 \n",
              "4 4   1   20 \n",
              "5 5   0    7 \n",
              "6 6   1    2 \n",
              "7 7   1    1 \n",
              "8 8   0    9 "
            ]
          },
          "metadata": {}
        }
      ]
    },
    {
      "cell_type": "code",
      "source": [
        "class(dogs$age)"
      ],
      "metadata": {
        "colab": {
          "base_uri": "https://localhost:8080/",
          "height": 34
        },
        "id": "NZu6hKTkJm8H",
        "outputId": "c2b0be36-2a3a-48fd-a275-6b2f9c223e33"
      },
      "execution_count": null,
      "outputs": [
        {
          "output_type": "display_data",
          "data": {
            "text/html": [
              "'numeric'"
            ],
            "text/markdown": "'numeric'",
            "text/latex": "'numeric'",
            "text/plain": [
              "[1] \"numeric\""
            ]
          },
          "metadata": {}
        }
      ]
    },
    {
      "cell_type": "code",
      "source": [
        "rm(list=ls())"
      ],
      "metadata": {
        "id": "1T4z25LOJtKU"
      },
      "execution_count": null,
      "outputs": []
    }
  ]
}